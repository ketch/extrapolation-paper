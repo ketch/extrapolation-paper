{
 "cells": [
  {
   "cell_type": "code",
   "execution_count": null,
   "metadata": {},
   "outputs": [],
   "source": [
    "%matplotlib inline\n",
    "from scipy import integrate\n",
    "import numpy as np\n",
    "import time\n",
    "from parex import parex\n",
    "import matplotlib.pyplot as plt\n",
    "from problems import nbody, kdv, burgers\n",
    "import os.path"
   ]
  },
  {
   "cell_type": "code",
   "execution_count": null,
   "metadata": {},
   "outputs": [],
   "source": [
    "tol = 1.e-11\n",
    "problem = burgers\n",
    "solver = 'explicit midpoint'\n",
    "#solver = 'scipy DOP853'\n",
    "if 'scipy' in solver:\n",
    "    solver_name = solver.split()[-1].lower()\n",
    "    r = integrate.complex_ode(problem.rhs_reversed).set_integrator(solver_name, atol=tol, rtol=tol, \n",
    "                                                                   verbosity=10, nsteps=1e7)\n",
    "    t0 = problem.output_times[0]\n",
    "    problem.output_times[-1]\n",
    "    t0 = problem.output_times[0]\n",
    "    tf = problem.output_times[-1]\n",
    "    r.set_initial_value(problem.y0, t0)\n",
    "    r.integrate(r.t+(tf-t0))\n",
    "    assert r.t == tf, \"Integration failed. Try increasing the maximum allowed steps.\"\n",
    "    y = r.y\n",
    "else:\n",
    "    y, diagnostics = parex.solve(problem.rhs, problem.output_times,\n",
    "                                 problem.y0, solver=solver, atol=tol,\n",
    "                                 rtol=tol, diagnostics=True,\n",
    "                                 jac_fun=problem.jacobian,\n",
    "                                 max_steps=1.e8)\n",
    "    y = np.squeeze(y[-1,:])\n",
    "\n",
    "if problem.solout: y = problem.solout(y)\n",
    "\n",
    "\n",
    "plt.plot(y);"
   ]
  },
  {
   "cell_type": "code",
   "execution_count": null,
   "metadata": {},
   "outputs": [],
   "source": [
    "np.savetxt('./reference_data/' + problem.name + \".txt\", y)"
   ]
  },
  {
   "cell_type": "code",
   "execution_count": null,
   "metadata": {},
   "outputs": [],
   "source": [
    "def generate_reference_data(problem,use_scipy=False,reftol=1.e-14):\n",
    "    \"Run problem and save output for future reference.  Non-dense output.\"\n",
    "    print(\"Generating reference data for \" + problem.name)\n",
    "    tol = 1.e-14\n",
    "    if use_scipy:\n",
    "        r = integrate.complex_ode(problem.rhs_reversed).set_integrator('DOP853', atol=tol, rtol=tol, \n",
    "                                                                       verbosity=10, nsteps=1e7)\n",
    "        t0 = problem.output_times[0]\n",
    "        problem.output_times[-1]\n",
    "        r.set_initial_value(problem.y0, t0)\n",
    "        r.integrate(r.t+(tf-t0))\n",
    "        assert r.t == tf, \"Integration failed. Try increasing the maximum allowed steps.\"\n",
    "        y = r.y\n",
    "    else:\n",
    "        y, diagnostics = parex.solve(problem.rhs, problem.output_times,\n",
    "                             problem.y0, solver=solver, atol=tol,\n",
    "                             rtol=tol, diagnostics=True,\n",
    "                             jac_fun=problem.jacobian,\n",
    "                             max_steps=1e8)\n",
    "        y = y[-1,:].squeeze()\n",
    "\n",
    "    if problem.solout:\n",
    "        y = problem.solout(y)\n",
    "    np.savetxt('./reference_data/' + problem.name + \".txt\", y)"
   ]
  },
  {
   "cell_type": "code",
   "execution_count": null,
   "metadata": {},
   "outputs": [],
   "source": [
    "solvers = ['explicit euler', 'explicit midpoint','scipy DOPRI5', 'scipy DOP853']\n",
    "tols = [1.e-3, 1.e-5, 1.e-7, 1.e-9]#, 1.e-11, 1.e-13]\n",
    "problems = [nbody, kdv, burgers]\n",
    "\n",
    "results = {}\n",
    "\n",
    "# Check that all required reference data is available\n",
    "for problem in problems:\n",
    "    reference_file = \"./reference_data/\" + problem.name + \".txt\"\n",
    "    if not os.path.exists(reference_file):\n",
    "        generate_reference_data(problem)\n",
    "    \n",
    "for problem in problems:\n",
    "    results[problem.name] = {}\n",
    "    reference_file = \"./reference_data/\" + problem.name + \".txt\"\n",
    "    y_ref = np.loadtxt(reference_file)\n",
    "    for solver in solvers:\n",
    "        results[problem.name][solver] = {}\n",
    "        for tol in tols:\n",
    "            print(problem.name, solver, tol)\n",
    "            results[problem.name][solver][tol] = {}\n",
    "            start = time.time()\n",
    "            if 'scipy' in solver:\n",
    "                solver_name = solver.split()[-1].lower()\n",
    "                if problem in [kdv, burgers]:\n",
    "                    r = integrate.complex_ode(problem.rhs_reversed).set_integrator(solver_name, atol=tol, \n",
    "                                                                          rtol=tol, verbosity=10, \n",
    "                                                                          nsteps=1e6)\n",
    "                else:\n",
    "                    r = integrate.ode(problem.rhs_reversed).set_integrator(solver_name, atol=tol, rtol=tol, \n",
    "                                                                  verbosity=10, nsteps=1e7)\n",
    "                t0 = problem.output_times[0]\n",
    "                tf = problem.output_times[-1]\n",
    "                r.set_initial_value(problem.y0, t0)\n",
    "                r.integrate(r.t+(tf-t0))\n",
    "                assert r.t == tf, \"Integration failed. Try increasing the maximum allowed steps.\"\n",
    "                y = r.y\n",
    "\n",
    "\n",
    "                results[problem.name][solver][tol]['fe_seq'] = None\n",
    "                results[problem.name][solver][tol]['mean_order'] = None\n",
    "            else:\n",
    "                y, diagnostics = parex.solve(problem.rhs, problem.output_times,\n",
    "                                             problem.y0, solver=solver, atol=tol,\n",
    "                                             rtol=tol, diagnostics=True,\n",
    "                                             jac_fun=problem.jacobian)\n",
    "\n",
    "                results[problem.name][solver][tol]['mean_order'] = diagnostics[\"k_avg\"]\n",
    "                results[problem.name][solver][tol]['fe_seq'] = diagnostics[\"fe_seq\"]\n",
    "                y = y[-1,:].squeeze()\n",
    "\n",
    "            end = time.time()\n",
    "            if problem.solout:\n",
    "                y = problem.solout(y)\n",
    "            results[problem.name][solver][tol]['wall_time'] = end-start\n",
    "\n",
    "            results[problem.name][solver][tol]['fe_total'] = np.sum(diagnostics[\"nfe\"])\n",
    "            results[problem.name][solver][tol]['nsteps'] = np.sum(diagnostics[\"nst\"])\n",
    "            results[problem.name][solver][tol]['je_total'] = np.sum(diagnostics[\"nje\"])\n",
    "\n",
    "            #plt.plot(problem.output_times,y)\n",
    "            #plt.title(str(tol)+' '+solver)\n",
    "\n",
    "            y = y.reshape(-1)\n",
    "            y_ref = y_ref.reshape(-1)\n",
    "\n",
    "            results[problem.name][solver][tol]['relative_error'] = np.linalg.norm(y-y_ref)/np.linalg.norm(y_ref)\n",
    "            print(results[problem.name][solver][tol]['relative_error'])\n",
    "            print(results[problem.name][solver][tol]['wall_time'])"
   ]
  },
  {
   "cell_type": "code",
   "execution_count": null,
   "metadata": {},
   "outputs": [],
   "source": [
    "problem = kdv\n",
    "for solver in solvers:\n",
    "    wall_time = [results[problem.name][solver][tol]['wall_time'] for tol in tols]\n",
    "    errors = [results[problem.name][solver][tol]['relative_error'] for tol in tols]\n",
    "    plt.loglog(errors, wall_time, '-s')\n",
    "plt.legend(solvers);\n",
    "plt.title(problem.name)\n",
    "plt.savefig(problem.name+'.pdf')"
   ]
  },
  {
   "cell_type": "code",
   "execution_count": null,
   "metadata": {},
   "outputs": [],
   "source": [
    "problem = burgers\n",
    "for solver in solvers:\n",
    "    wall_time = [results[problem.name][solver][tol]['wall_time'] for tol in tols]\n",
    "    errors = [results[problem.name][solver][tol]['relative_error'] for tol in tols]\n",
    "    plt.loglog(errors, wall_time, '-s')\n",
    "plt.legend(solvers);\n",
    "plt.title(problem.name)\n",
    "plt.savefig(problem.name+'.pdf')"
   ]
  },
  {
   "cell_type": "code",
   "execution_count": null,
   "metadata": {},
   "outputs": [],
   "source": [
    "problem = nbody\n",
    "for solver in solvers:\n",
    "    wall_time = [results[problem.name][solver][tol]['wall_time'] for tol in tols]\n",
    "    errors = [results[problem.name][solver][tol]['relative_error'] for tol in tols]\n",
    "    plt.loglog(errors, wall_time, '-s')\n",
    "plt.legend(solvers);\n",
    "plt.title(problem.name)\n",
    "plt.savefig(problem.name+'.pdf')"
   ]
  },
  {
   "cell_type": "code",
   "execution_count": null,
   "metadata": {},
   "outputs": [],
   "source": [
    "kdv.solout"
   ]
  },
  {
   "cell_type": "code",
   "execution_count": null,
   "metadata": {},
   "outputs": [],
   "source": [
    "plt.savefig?"
   ]
  },
  {
   "cell_type": "code",
   "execution_count": null,
   "metadata": {},
   "outputs": [],
   "source": [
    "results['kdv']['explicit midpoint'][1.e-7]['relative_error']"
   ]
  },
  {
   "cell_type": "code",
   "execution_count": null,
   "metadata": {},
   "outputs": [],
   "source": [
    "results['kdv']['scipy DOPRI5'][1.e-7]['relative_error']"
   ]
  },
  {
   "cell_type": "code",
   "execution_count": null,
   "metadata": {},
   "outputs": [],
   "source": [
    "results['nbody']['scipy DOPRI5'][1.e-7]['wall_time']"
   ]
  },
  {
   "cell_type": "code",
   "execution_count": null,
   "metadata": {},
   "outputs": [],
   "source": [
    "results['nbody']['explicit midpoint'][1.e-7]['relative_error']"
   ]
  },
  {
   "cell_type": "code",
   "execution_count": null,
   "metadata": {},
   "outputs": [],
   "source": [
    "results['nbody']['scipy DOPRI5'][1.e-7]['relative_error']"
   ]
  },
  {
   "cell_type": "code",
   "execution_count": null,
   "metadata": {},
   "outputs": [],
   "source": []
  }
 ],
 "metadata": {
  "kernelspec": {
   "display_name": "Python 3",
   "language": "python",
   "name": "python3"
  },
  "language_info": {
   "codemirror_mode": {
    "name": "ipython",
    "version": 3
   },
   "file_extension": ".py",
   "mimetype": "text/x-python",
   "name": "python",
   "nbconvert_exporter": "python",
   "pygments_lexer": "ipython3",
   "version": "3.6.5"
  },
  "toc": {
   "nav_menu": {},
   "number_sections": true,
   "sideBar": true,
   "skip_h1_title": false,
   "toc_cell": false,
   "toc_position": {},
   "toc_section_display": "block",
   "toc_window_display": false
  }
 },
 "nbformat": 4,
 "nbformat_minor": 2
}
