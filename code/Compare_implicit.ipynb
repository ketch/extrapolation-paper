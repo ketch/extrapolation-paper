{
 "cells": [
  {
   "cell_type": "code",
   "execution_count": null,
   "metadata": {},
   "outputs": [],
   "source": [
    "%matplotlib inline\n",
    "from scipy import integrate\n",
    "import numpy as np\n",
    "import time\n",
    "from parex import parex\n",
    "import matplotlib.pyplot as plt\n",
    "from problems import vdpol, brusselator"
   ]
  },
  {
   "cell_type": "code",
   "execution_count": null,
   "metadata": {},
   "outputs": [],
   "source": [
    "problem=brusselator\n",
    "tol = 1.e-13\n",
    "y, diagnostics = integrate.odeint(problem.rhs, problem.y0, problem.output_times, \n",
    "                                                  Dfun=problem.jacobian, atol=tol, rtol=tol, \n",
    "                                                  mxstep=100000000, full_output=True)"
   ]
  },
  {
   "cell_type": "code",
   "execution_count": null,
   "metadata": {},
   "outputs": [],
   "source": [
    "problem.name"
   ]
  },
  {
   "cell_type": "code",
   "execution_count": null,
   "metadata": {},
   "outputs": [],
   "source": [
    "np.savetxt('reference_data/'+problem.name+'.txt',y[1:,:])"
   ]
  },
  {
   "cell_type": "code",
   "execution_count": null,
   "metadata": {},
   "outputs": [],
   "source": [
    "diagnostics"
   ]
  },
  {
   "cell_type": "code",
   "execution_count": null,
   "metadata": {},
   "outputs": [],
   "source": [
    "N=20\n",
    "y = y[-1,:].reshape(2,N,N)\n",
    "U = y[1,:,:]\n",
    "plt.pcolor(U)"
   ]
  },
  {
   "cell_type": "code",
   "execution_count": null,
   "metadata": {},
   "outputs": [],
   "source": [
    "solvers = ['semi-implicit euler', 'scipy']\n",
    "tols = [1.e-3, 1.e-5, 1.e-7, 1.e-11]\n",
    "problems = [brusselator]\n",
    "\n",
    "results = {}\n",
    "\n",
    "for problem in problems:\n",
    "    results[problem.name] = {}\n",
    "    reference_file = \"./reference_data/\" + problem.name + \".txt\"\n",
    "    y_ref = np.loadtxt(reference_file)\n",
    "    for solver in solvers:\n",
    "        results[problem.name][solver] = {}\n",
    "        for tol in tols:\n",
    "            print(problem.name, solver, tol)\n",
    "            results[problem.name][solver][tol] = {}\n",
    "            start = time.time()\n",
    "            if solver is 'scipy':\n",
    "                y, diagnostics = integrate.odeint(problem.rhs, problem.y0, problem.output_times, \n",
    "                                                  Dfun=problem.jacobian, atol=tol, rtol=tol, \n",
    "                                                  mxstep=100000000, full_output=True)\n",
    "                results[problem.name][solver][tol]['fe_seq'] = np.sum(diagnostics[\"nfe\"])\n",
    "                results[problem.name][solver][tol]['mean_order'] = None\n",
    "            else:\n",
    "                y, diagnostics = parex.solve(problem.rhs, problem.output_times,\n",
    "                                             problem.y0, solver=solver, atol=tol,\n",
    "                                             rtol=tol, diagnostics=True,\n",
    "                                             jac_fun=problem.jacobian)\n",
    "                results[problem.name][solver][tol]['mean_order'] = diagnostics[\"k_avg\"]\n",
    "                results[problem.name][solver][tol]['fe_seq'] = diagnostics[\"fe_seq\"]\n",
    "\n",
    "            end = time.time()\n",
    "            results[problem.name][solver][tol]['wall_time'] = end-start\n",
    "\n",
    "            results[problem.name][solver][tol]['fe_total'] = np.sum(diagnostics[\"nfe\"])\n",
    "            results[problem.name][solver][tol]['nsteps'] = np.sum(diagnostics[\"nst\"])\n",
    "            results[problem.name][solver][tol]['je_total'] = np.sum(diagnostics[\"nje\"])\n",
    "\n",
    "            plt.plot(problem.output_times,y)\n",
    "            plt.title(str(tol)+' '+solver)\n",
    "\n",
    "            y = y[1:,:].reshape(-1)\n",
    "            y_ref = y_ref.reshape(-1)\n",
    "            results[problem.name][solver][tol]['relative_error'] = np.linalg.norm(y-y_ref)/np.linalg.norm(y_ref)"
   ]
  },
  {
   "cell_type": "code",
   "execution_count": null,
   "metadata": {},
   "outputs": [],
   "source": [
    "problem = brusselator\n",
    "for solver in solvers:\n",
    "    errors = [results[problem.name][solver][tol]['relative_error'] for tol in tols]\n",
    "    plt.loglog(tols, errors)\n",
    "plt.legend(solvers);"
   ]
  },
  {
   "cell_type": "code",
   "execution_count": null,
   "metadata": {},
   "outputs": [],
   "source": [
    "for solver in solvers:\n",
    "    fe_total = [results[problem.name][solver][tol]['fe_total'] for tol in tols]\n",
    "    errors = [results[problem.name][solver][tol]['relative_error'] for tol in tols]\n",
    "    plt.loglog(errors, fe_total)\n",
    "    plt.ylabel('Total f evals')\n",
    "\n",
    "plt.legend(solvers);"
   ]
  },
  {
   "cell_type": "code",
   "execution_count": null,
   "metadata": {},
   "outputs": [],
   "source": [
    "for solver in solvers:\n",
    "    fe_seq = [results[problem.name][solver][tol]['fe_seq'] for tol in tols]\n",
    "    errors = [results[problem.name][solver][tol]['relative_error'] for tol in tols]\n",
    "    plt.loglog(errors, fe_seq)\n",
    "    plt.ylabel('Sequential f evals')\n",
    "plt.legend(solvers);"
   ]
  },
  {
   "cell_type": "code",
   "execution_count": null,
   "metadata": {},
   "outputs": [],
   "source": [
    "for solver in solvers:\n",
    "    je_total = [results[problem.name][solver][tol]['je_total'] for tol in tols]\n",
    "    errors = [results[problem.name][solver][tol]['relative_error'] for tol in tols]\n",
    "    plt.loglog(errors, je_total)\n",
    "plt.legend(solvers);"
   ]
  },
  {
   "cell_type": "code",
   "execution_count": null,
   "metadata": {},
   "outputs": [],
   "source": [
    "for solver in solvers:\n",
    "    wall_time = [results[problem.name][solver][tol]['wall_time'] for tol in tols]\n",
    "    errors = [results[problem.name][solver][tol]['relative_error'] for tol in tols]\n",
    "    plt.loglog(errors, wall_time)\n",
    "plt.legend(solvers);"
   ]
  },
  {
   "cell_type": "code",
   "execution_count": null,
   "metadata": {},
   "outputs": [],
   "source": [
    "for solver in solvers:\n",
    "    mean_order = [results[problem.name][solver][tol]['mean_order'] for tol in tols]\n",
    "    errors = [results[problem.name][solver][tol]['relative_error'] for tol in tols]\n",
    "    plt.semilogx(errors, mean_order,'-x')\n",
    "plt.legend(solvers);"
   ]
  },
  {
   "cell_type": "code",
   "execution_count": null,
   "metadata": {},
   "outputs": [],
   "source": [
    "y_ref.shape"
   ]
  },
  {
   "cell_type": "code",
   "execution_count": null,
   "metadata": {},
   "outputs": [],
   "source": [
    "brusselator.name"
   ]
  },
  {
   "cell_type": "code",
   "execution_count": null,
   "metadata": {},
   "outputs": [],
   "source": [
    "brusselator.y0.shape"
   ]
  },
  {
   "cell_type": "code",
   "execution_count": null,
   "metadata": {},
   "outputs": [],
   "source": []
  }
 ],
 "metadata": {
  "kernelspec": {
   "display_name": "Python 3",
   "language": "python",
   "name": "python3"
  },
  "language_info": {
   "codemirror_mode": {
    "name": "ipython",
    "version": 3
   },
   "file_extension": ".py",
   "mimetype": "text/x-python",
   "name": "python",
   "nbconvert_exporter": "python",
   "pygments_lexer": "ipython3",
   "version": "3.6.5"
  },
  "toc": {
   "nav_menu": {},
   "number_sections": true,
   "sideBar": true,
   "skip_h1_title": false,
   "toc_cell": false,
   "toc_position": {},
   "toc_section_display": "block",
   "toc_window_display": false
  }
 },
 "nbformat": 4,
 "nbformat_minor": 2
}
